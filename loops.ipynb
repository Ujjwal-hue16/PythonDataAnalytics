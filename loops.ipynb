{
 "cells": [
  {
   "cell_type": "code",
   "execution_count": 2,
   "metadata": {},
   "outputs": [
    {
     "name": "stdout",
     "output_type": "stream",
     "text": [
      "['orange', 'apple ', 'pear ', 'banana', 'kiwi', 'banana']\n"
     ]
    }
   ],
   "source": [
    "fruits = ['orange', 'apple ','pear ','banana','kiwi','banana']\n",
    "print(fruits)"
   ]
  },
  {
   "cell_type": "code",
   "execution_count": 3,
   "metadata": {},
   "outputs": [
    {
     "name": "stdout",
     "output_type": "stream",
     "text": [
      "orange\n",
      "apple \n",
      "pear \n",
      "banana\n",
      "kiwi\n",
      "banana\n"
     ]
    }
   ],
   "source": [
    "for x in fruits :\n",
    "    print(x)"
   ]
  },
  {
   "cell_type": "code",
   "execution_count": 5,
   "metadata": {},
   "outputs": [
    {
     "name": "stdout",
     "output_type": "stream",
     "text": [
      "orange ❤️ apple  ❤️pear  ❤️banana ❤️kiwi ❤️banana ❤️"
     ]
    }
   ],
   "source": [
    "for x in fruits:\n",
    "    print(x, end=' ❤️')"
   ]
  },
  {
   "cell_type": "code",
   "execution_count": 11,
   "metadata": {},
   "outputs": [
    {
     "name": "stdout",
     "output_type": "stream",
     "text": [
      "ujjwal gupta"
     ]
    }
   ],
   "source": [
    "name= 'ujjwal gupta'\n",
    "for i in name:\n",
    "    print (i, end= '')"
   ]
  },
  {
   "cell_type": "code",
   "execution_count": 16,
   "metadata": {},
   "outputs": [
    {
     "name": "stdout",
     "output_type": "stream",
     "text": [
      "0\n",
      "3\n",
      "6\n",
      "9\n",
      "12\n",
      "15\n",
      "18\n"
     ]
    }
   ],
   "source": [
    "for num in range(0,20,3):\n",
    "    print(num)"
   ]
  },
  {
   "cell_type": "code",
   "execution_count": 1,
   "metadata": {},
   "outputs": [
    {
     "name": "stdout",
     "output_type": "stream",
     "text": [
      "ujjwal\n",
      "ujjwal\n",
      "ujjwal\n",
      "ujjwal\n",
      "ujjwal\n",
      "ujjwal\n",
      "ujjwal\n",
      "ujjwal\n"
     ]
    }
   ],
   "source": [
    "for name in range(8):\n",
    "    print(\"ujjwal\")"
   ]
  },
  {
   "cell_type": "code",
   "execution_count": 23,
   "metadata": {},
   "outputs": [
    {
     "name": "stdout",
     "output_type": "stream",
     "text": [
      "sum : 15\n",
      "sum of 10 and 5 is 15\n",
      "sum of 10 and 5 is 15\n"
     ]
    }
   ],
   "source": [
    "a=10\n",
    "b=5\n",
    "sum = a+b\n",
    "print(\"sum :\",sum)\n",
    "print(\"sum of\",a,\"and\",b,\"is\",sum)\n",
    "print(f\"sum of {a} and {b} is {sum}\")"
   ]
  },
  {
   "cell_type": "code",
   "execution_count": 27,
   "metadata": {},
   "outputs": [
    {
     "name": "stdout",
     "output_type": "stream",
     "text": [
      "15 * 1 = 15\n",
      "15 * 2 = 30\n",
      "15 * 3 = 45\n",
      "15 * 4 = 60\n",
      "15 * 5 = 75\n",
      "15 * 6 = 90\n",
      "15 * 7 = 105\n",
      "15 * 8 = 120\n",
      "15 * 9 = 135\n",
      "15 * 10 = 150\n"
     ]
    }
   ],
   "source": [
    "for i in range(1,11):\n",
    " print(f\"15 * {i} = {15*i}\")"
   ]
  },
  {
   "cell_type": "code",
   "execution_count": 1,
   "metadata": {},
   "outputs": [
    {
     "name": "stdout",
     "output_type": "stream",
     "text": [
      "15*1=15\n",
      "15*2=30\n",
      "15*3=45\n",
      "15*4=60\n",
      "15*5=75\n",
      "15*6=90\n",
      "15*7=105\n",
      "15*8=120\n",
      "15*9=135\n",
      "15*10=150\n"
     ]
    }
   ],
   "source": [
    "for i in range(1,11):\n",
    "    print(f\"15*{i}={15*i}\")"
   ]
  },
  {
   "cell_type": "code",
   "execution_count": 2,
   "metadata": {},
   "outputs": [
    {
     "name": "stdout",
     "output_type": "stream",
     "text": [
      "1\n",
      "2\n",
      "3\n",
      "4\n",
      "5\n",
      "6\n",
      "7\n",
      "8\n",
      "9\n",
      "10\n"
     ]
    }
   ],
   "source": [
    "for i in range(1,11):\n",
    "    print(i)\n"
   ]
  },
  {
   "cell_type": "code",
   "execution_count": 4,
   "metadata": {},
   "outputs": [
    {
     "name": "stdout",
     "output_type": "stream",
     "text": [
      "32*1=32\n",
      "32*2=64\n",
      "32*3=96\n",
      "32*4=128\n",
      "32*5=160\n",
      "32*6=192\n",
      "32*7=224\n",
      "32*8=256\n",
      "32*9=288\n",
      "32*10=320\n"
     ]
    }
   ],
   "source": [
    "for i in range(1,11):\n",
    "    print(f\"32*{i}={32*i}\")"
   ]
  },
  {
   "cell_type": "code",
   "execution_count": 8,
   "metadata": {},
   "outputs": [
    {
     "name": "stdout",
     "output_type": "stream",
     "text": [
      "0\n",
      "2\n",
      "4\n",
      "6\n",
      "8\n",
      "10\n",
      "12\n",
      "14\n",
      "16\n",
      "18\n"
     ]
    }
   ],
   "source": [
    "for i in range(0,20,2):\n",
    "    print(i)"
   ]
  },
  {
   "cell_type": "code",
   "execution_count": 17,
   "metadata": {},
   "outputs": [
    {
     "name": "stdout",
     "output_type": "stream",
     "text": [
      "2\n",
      "4\n",
      "6\n",
      "8\n",
      "10\n",
      "12\n",
      "14\n",
      "16\n",
      "18\n",
      "20\n"
     ]
    }
   ],
   "source": [
    "for i in range(1,21):\n",
    "    if i%2== 0:\n",
    "        print(i)"
   ]
  },
  {
   "cell_type": "code",
   "execution_count": 13,
   "metadata": {},
   "outputs": [
    {
     "name": "stdout",
     "output_type": "stream",
     "text": [
      "1\n",
      "2\n",
      "3\n",
      "4\n",
      "5\n",
      "6\n",
      "7\n",
      "8\n",
      "9\n",
      "10\n"
     ]
    }
   ],
   "source": [
    "num = 1\n",
    "while num <=10:\n",
    "    print(num)\n",
    "    num+=1"
   ]
  },
  {
   "cell_type": "code",
   "execution_count": 22,
   "metadata": {},
   "outputs": [
    {
     "name": "stdout",
     "output_type": "stream",
     "text": [
      "sum of all interger 100\n"
     ]
    }
   ],
   "source": [
    "sum =0\n",
    "for i in range(1,101):\n",
    "\n",
    "    sum=sum +1\n",
    "print(\"sum of all interger\",sum)"
   ]
  },
  {
   "cell_type": "code",
   "execution_count": 25,
   "metadata": {},
   "outputs": [
    {
     "name": "stdout",
     "output_type": "stream",
     "text": [
      "sum of integers from 1 to 100 is 5050\n"
     ]
    }
   ],
   "source": [
    "sum = 0\n",
    "for i in range(1,101):\n",
    "       sum = sum + i\n",
    "print(\"sum of integers from 1 to 100 is\",sum)   "
   ]
  },
  {
   "cell_type": "code",
   "execution_count": 33,
   "metadata": {},
   "outputs": [
    {
     "name": "stdout",
     "output_type": "stream",
     "text": [
      "sum of all integers is 1 to 100 5050\n"
     ]
    }
   ],
   "source": [
    "sum = 0\n",
    "num = 1\n",
    "while num<=100:\n",
    "    sum = sum+num\n",
    "    num = num+1\n",
    "print(\"sum of all integers is 1 to 100\",sum)"
   ]
  },
  {
   "cell_type": "markdown",
   "metadata": {},
   "source": [
    "Break AND Continue"
   ]
  },
  {
   "cell_type": "code",
   "execution_count": 9,
   "metadata": {},
   "outputs": [
    {
     "name": "stdout",
     "output_type": "stream",
     "text": [
      "orange\n",
      "apple \n",
      "pear \n"
     ]
    }
   ],
   "source": [
    "fruits = ['orange', 'apple ','pear ','tomato','banana','kiwi','banana']\n",
    "for fruit in fruits:\n",
    "    if fruit ==\"tomato\":\n",
    "        break\n",
    "    print(fruit)\n"
   ]
  },
  {
   "cell_type": "code",
   "execution_count": 7,
   "metadata": {},
   "outputs": [
    {
     "name": "stdout",
     "output_type": "stream",
     "text": [
      "orange\n",
      "apple \n",
      "pear \n",
      "banana\n",
      "kiwi\n",
      "banana\n"
     ]
    }
   ],
   "source": [
    "fruits = ['orange', 'apple ','pear ','tomato','banana','kiwi','banana']\n",
    "for fruit in fruits:\n",
    "    if fruit ==\"tomato\":\n",
    "        continue\n",
    "    print(fruit)"
   ]
  },
  {
   "cell_type": "code",
   "execution_count": 14,
   "metadata": {},
   "outputs": [
    {
     "name": "stdout",
     "output_type": "stream",
     "text": [
      "u\n",
      "j\n",
      "j\n"
     ]
    }
   ],
   "source": [
    "name=\"ujjwal\"\n",
    "for n in name:\n",
    "    if n ==\"w\":\n",
    "        break\n",
    "    print(n)"
   ]
  },
  {
   "cell_type": "code",
   "execution_count": 18,
   "metadata": {},
   "outputs": [
    {
     "name": "stdout",
     "output_type": "stream",
     "text": [
      "0,orange\n",
      "1,apple \n",
      "2,pear \n",
      "3,tomato\n",
      "4,banana\n",
      "5,kiwi\n",
      "6,banana\n"
     ]
    }
   ],
   "source": [
    "for i, v in enumerate(fruits):\n",
    "  print(f'{i},{v}')"
   ]
  },
  {
   "cell_type": "code",
   "execution_count": 22,
   "metadata": {},
   "outputs": [
    {
     "name": "stdout",
     "output_type": "stream",
     "text": [
      "0:pen \n",
      "1:pencil\n",
      "2:eraser\n"
     ]
    }
   ],
   "source": [
    "item = ['pen ','pencil','eraser','bowl','scale','bottle',]\n",
    "for i ,v in enumerate(item):\n",
    "    if i ==3:\n",
    "        break\n",
    "    print(f'{i}:{v}')"
   ]
  },
  {
   "cell_type": "code",
   "execution_count": null,
   "metadata": {},
   "outputs": [],
   "source": []
  }
 ],
 "metadata": {
  "kernelspec": {
   "display_name": "Python 3",
   "language": "python",
   "name": "python3"
  },
  "language_info": {
   "codemirror_mode": {
    "name": "ipython",
    "version": 3
   },
   "file_extension": ".py",
   "mimetype": "text/x-python",
   "name": "python",
   "nbconvert_exporter": "python",
   "pygments_lexer": "ipython3",
   "version": "3.12.5"
  }
 },
 "nbformat": 4,
 "nbformat_minor": 2
}
