{
 "cells": [
  {
   "cell_type": "code",
   "execution_count": 18,
   "metadata": {},
   "outputs": [],
   "source": [
    "import math"
   ]
  },
  {
   "cell_type": "code",
   "execution_count": 19,
   "metadata": {},
   "outputs": [
    {
     "name": "stdout",
     "output_type": "stream",
     "text": [
      "3.0\n",
      "8.0\n",
      "120\n",
      "2.718281828459045\n",
      "-0.27941549819892586\n",
      "3\n",
      "0.5403023058681398\n",
      "1.5574077246549023\n",
      "12\n"
     ]
    }
   ],
   "source": [
    "print(math.sqrt(9))\n",
    "print(math.pow(2,3))\n",
    "print(math.factorial(5))\n",
    "print(math.e)\n",
    "print(math.sin(6))\n",
    "print(math.gcd(12,3))\n",
    "print(math.cos(1))\n",
    "print(math.tan(1))\n",
    "print(math.lcm(12,3))\n"
   ]
  },
  {
   "cell_type": "code",
   "execution_count": 20,
   "metadata": {},
   "outputs": [],
   "source": [
    "from random import random , randint,choice , shuffle"
   ]
  },
  {
   "cell_type": "code",
   "execution_count": 21,
   "metadata": {},
   "outputs": [
    {
     "name": "stdout",
     "output_type": "stream",
     "text": [
      "get a random number between 1 and 2: 0.6501610770473084\n",
      "get a random number between 1 and 2: 56\n",
      "get a random element from a list: 2\n",
      "shuffle a list: ['ayushman', 'ujjwal', 'sujal', 'rahul']\n"
     ]
    }
   ],
   "source": [
    "print('get a random number between 1 and 2:',random())\n",
    "print('get a random number between 1 and 2:',randint(1,100))\n",
    "print('get a random element from a list:',choice([1,2,3,4,5]))\n",
    "names = ['ujjwal','sujal','ayushman','rahul']\n",
    "shuffle(names)\n",
    "print('shuffle a list:',names)\n"
   ]
  },
  {
   "cell_type": "code",
   "execution_count": 22,
   "metadata": {},
   "outputs": [],
   "source": [
    "from datetime import  datetime as dt"
   ]
  },
  {
   "cell_type": "code",
   "execution_count": 23,
   "metadata": {},
   "outputs": [
    {
     "name": "stdout",
     "output_type": "stream",
     "text": [
      "current date and time: 2024-09-25 11:19:19.611538\n"
     ]
    }
   ],
   "source": [
    "print('current date and time:', dt.now())"
   ]
  },
  {
   "cell_type": "code",
   "execution_count": 24,
   "metadata": {},
   "outputs": [
    {
     "name": "stdout",
     "output_type": "stream",
     "text": [
      "current date: 2024-09-25\n",
      "current time: 11:19:19.653962\n"
     ]
    }
   ],
   "source": [
    "print('current date:',dt.now().date())\n",
    "print('current time:',dt.now().time())"
   ]
  },
  {
   "cell_type": "code",
   "execution_count": 25,
   "metadata": {},
   "outputs": [
    {
     "name": "stdout",
     "output_type": "stream",
     "text": [
      "current year: 2024\n",
      "current month: 9\n",
      "current day: 25\n",
      "current hour: 11\n",
      "current minute: 19\n",
      "current second: 19\n",
      "current microsecond: 685491\n",
      "current weekday: 2\n"
     ]
    }
   ],
   "source": [
    "print('current year:',dt.now().year)\n",
    "print('current month:',dt.now().month)\n",
    "print('current day:',dt.now().day)\n",
    "print('current hour:',dt.now().hour)\n",
    "print('current minute:',dt.now().minute)\n",
    "print('current second:',dt.now().second)\n",
    "print('current microsecond:',dt.now().microsecond)\n",
    "print('current weekday:',dt.now().weekday())\n"
   ]
  },
  {
   "cell_type": "code",
   "execution_count": 26,
   "metadata": {},
   "outputs": [
    {
     "name": "stdout",
     "output_type": "stream",
     "text": [
      "date:  25/09/2024\n"
     ]
    }
   ],
   "source": [
    "date = dt.strftime(dt.now(), ' %d/%m/%Y')\n",
    "print('date:', date)"
   ]
  },
  {
   "cell_type": "code",
   "execution_count": 27,
   "metadata": {},
   "outputs": [
    {
     "name": "stdout",
     "output_type": "stream",
     "text": [
      "time:  11:19:19\n"
     ]
    }
   ],
   "source": [
    "time = dt.strftime(dt.now(), ' %H:%M:%S')\n",
    "print('time:', time)"
   ]
  },
  {
   "cell_type": "code",
   "execution_count": 28,
   "metadata": {},
   "outputs": [],
   "source": [
    "import os "
   ]
  },
  {
   "cell_type": "code",
   "execution_count": 29,
   "metadata": {},
   "outputs": [
    {
     "name": "stdout",
     "output_type": "stream",
     "text": [
      "current working directory: c:\\Users\\sameer\\Desktop\\Python\n"
     ]
    }
   ],
   "source": [
    "print('current working directory:', os.getcwd())"
   ]
  },
  {
   "cell_type": "code",
   "execution_count": 30,
   "metadata": {},
   "outputs": [
    {
     "name": "stdout",
     "output_type": "stream",
     "text": [
      "files in the current directory: ['.git', 'Data structure', 'function.ipynb', 'library.ipynb', 'loops.ipynb', 'Turtle']\n",
      "6 files found\n"
     ]
    }
   ],
   "source": [
    "files = os.listdir()\n",
    "print('files in the current directory:', files)\n",
    "print(len(files),'files found')"
   ]
  },
  {
   "cell_type": "code",
   "execution_count": 31,
   "metadata": {},
   "outputs": [
    {
     "name": "stdout",
     "output_type": "stream",
     "text": [
      "files in the specified directory: ['01 Casting.mp4', '02 Haldi.mp4', '03 Tilak.mp4', '04 Wedding.mp4']\n"
     ]
    }
   ],
   "source": [
    "files = os.listdir(r\"c:\\Users\\sameer\\Desktop\\New folder\") #raw string\n",
    "print('files in the specified directory:', files)"
   ]
  },
  {
   "cell_type": "code",
   "execution_count": 32,
   "metadata": {},
   "outputs": [
    {
     "data": {
      "text/plain": [
       "<generator object walk at 0x0000020615F60A50>"
      ]
     },
     "execution_count": 32,
     "metadata": {},
     "output_type": "execute_result"
    }
   ],
   "source": [
    "os.walk('c:')"
   ]
  },
  {
   "cell_type": "code",
   "execution_count": 33,
   "metadata": {},
   "outputs": [
    {
     "name": "stdout",
     "output_type": "stream",
     "text": [
      "=> c:\n",
      "😊 ['.git', 'Data structure', 'Turtle']\n",
      "😒 ['function.ipynb', 'library.ipynb', 'loops.ipynb']\n",
      "=> c:.git\n",
      "😊 ['hooks', 'info', 'logs', 'objects', 'refs']\n",
      "😒 ['COMMIT_EDITMSG', 'config', 'description', 'HEAD', 'index']\n",
      "=> c:.git\\hooks\n",
      "😊 []\n",
      "😒 ['applypatch-msg.sample', 'commit-msg.sample', 'fsmonitor-watchman.sample', 'post-update.sample', 'pre-applypatch.sample', 'pre-commit.sample', 'pre-merge-commit.sample', 'pre-push.sample', 'pre-rebase.sample', 'pre-receive.sample', 'prepare-commit-msg.sample', 'push-to-checkout.sample', 'sendemail-validate.sample', 'update.sample']\n",
      "=> c:.git\\info\n",
      "😊 []\n",
      "😒 ['exclude']\n",
      "=> c:.git\\logs\n",
      "😊 ['refs']\n",
      "😒 ['HEAD']\n",
      "=> c:.git\\logs\\refs\n",
      "😊 ['heads', 'remotes']\n",
      "😒 []\n",
      "=> c:.git\\logs\\refs\\heads\n",
      "😊 []\n",
      "😒 ['main']\n",
      "=> c:.git\\logs\\refs\\remotes\n",
      "😊 ['origin']\n",
      "😒 []\n",
      "=> c:.git\\logs\\refs\\remotes\\origin\n",
      "😊 []\n",
      "😒 ['main']\n",
      "=> c:.git\\objects\n",
      "😊 ['02', '25', '35', '39', '4e', '4f', '53', '58', '61', '6e', '74', '7b', '7f', '87', '88', '90', 'b6', 'be', 'ce', 'd6', 'd8', 'd9', 'e5', 'e7', 'ec', 'info', 'pack']\n",
      "😒 []\n",
      "=> c:.git\\objects\\02\n",
      "😊 []\n",
      "😒 ['fb5917204574e638538f8905ebe85f6cb86308']\n",
      "=> c:.git\\objects\\25\n",
      "😊 []\n",
      "😒 ['ca53a22ab6880d7944b370f5c392e42b19d2c6']\n",
      "=> c:.git\\objects\\35\n",
      "😊 []\n",
      "😒 ['65eccb8f5d3cf747433ee0931d631b61dc3900']\n",
      "=> c:.git\\objects\\39\n",
      "😊 []\n",
      "😒 ['216b928dbfa2b87e842a1a7b705d485110bc31']\n",
      "=> c:.git\\objects\\4e\n",
      "😊 []\n",
      "😒 ['d5f579e7136f38c089fb57f862d63d36fd990d']\n",
      "=> c:.git\\objects\\4f\n",
      "😊 []\n",
      "😒 ['e28c666ab4b44bd704e420d2a99479ea84b52c']\n",
      "=> c:.git\\objects\\53\n",
      "😊 []\n",
      "😒 ['c4fbffb65a540d64aaf50e9ad2892e64ebfe59']\n",
      "=> c:.git\\objects\\58\n",
      "😊 []\n",
      "😒 ['628330413a685d55450efc3a627072694a02ee']\n",
      "=> c:.git\\objects\\61\n",
      "😊 []\n",
      "😒 ['45e1f3baad9cb6bbcc6660a85afb0c89a3236c']\n",
      "=> c:.git\\objects\\6e\n",
      "😊 []\n",
      "😒 ['3e986b612e5f7f72de19019dd3ead1a11a8482']\n",
      "=> c:.git\\objects\\74\n",
      "😊 []\n",
      "😒 ['06c6b828f41329a3fd557054ccafdaf4f1ec19']\n",
      "=> c:.git\\objects\\7b\n",
      "😊 []\n",
      "😒 ['0747dde19fd5435e89bc0ae5a92923ffa35049']\n",
      "=> c:.git\\objects\\7f\n",
      "😊 []\n",
      "😒 ['af22159c0ded746f3a25bc0a8b04ce9055aaa7']\n",
      "=> c:.git\\objects\\87\n",
      "😊 []\n",
      "😒 ['dcf7bcef6974ef62971e81ec100a0a7a8e953e']\n",
      "=> c:.git\\objects\\88\n",
      "😊 []\n",
      "😒 ['0a06361ad8d76c13aef65913b070c73cb3ec9c']\n",
      "=> c:.git\\objects\\90\n",
      "😊 []\n",
      "😒 ['3707a4ead52568fcdeea9c75e66a5eb0b359e4']\n",
      "=> c:.git\\objects\\b6\n",
      "😊 []\n",
      "😒 ['640bd75694c5105617cb0c814b7068643dff9d']\n",
      "=> c:.git\\objects\\be\n",
      "😊 []\n",
      "😒 ['b41f3b84382f649fcd9fa554d88437f84b4248']\n",
      "=> c:.git\\objects\\ce\n",
      "😊 []\n",
      "😒 ['1305deac7b6c15386ba1ee8a1eced1718900a4']\n",
      "=> c:.git\\objects\\d6\n",
      "😊 []\n",
      "😒 ['0e10ea753a87c1a17e0a916eab90c622b59060']\n",
      "=> c:.git\\objects\\d8\n",
      "😊 []\n",
      "😒 ['6389baf1d6df1aaf4c11d3b8dfb2e5da4f3aa9']\n",
      "=> c:.git\\objects\\d9\n",
      "😊 []\n",
      "😒 ['8589051ea487972157ca0ca6baf373ce3cdbe9']\n",
      "=> c:.git\\objects\\e5\n",
      "😊 []\n",
      "😒 ['ad7f87072d55a9c3928978eb261814be31c495']\n",
      "=> c:.git\\objects\\e7\n",
      "😊 []\n",
      "😒 ['71f39d561ea382cb6c59049e75e7ffd5a35eb8']\n",
      "=> c:.git\\objects\\ec\n",
      "😊 []\n",
      "😒 ['1916093adfc8ce49d3a83f0b95261f204ae561']\n",
      "=> c:.git\\objects\\info\n",
      "😊 []\n",
      "😒 []\n",
      "=> c:.git\\objects\\pack\n",
      "😊 []\n",
      "😒 []\n",
      "=> c:.git\\refs\n",
      "😊 ['heads', 'remotes', 'tags']\n",
      "😒 []\n",
      "=> c:.git\\refs\\heads\n",
      "😊 []\n",
      "😒 ['main']\n",
      "=> c:.git\\refs\\remotes\n",
      "😊 ['origin']\n",
      "😒 []\n",
      "=> c:.git\\refs\\remotes\\origin\n",
      "😊 []\n",
      "😒 ['main']\n",
      "=> c:.git\\refs\\tags\n",
      "😊 []\n",
      "😒 []\n",
      "=> c:Data structure\n",
      "😊 []\n",
      "😒 ['Dictionary.ipynb', 'list.ipynb', 'sets.ipynb', 'string.ipynb']\n",
      "=> c:Turtle\n",
      "😊 []\n",
      "😒 ['Square.py']\n",
      "total files found: 58\n"
     ]
    }
   ],
   "source": [
    "total_files = 0\n",
    "for path, folders , files in os.walk('c:'):\n",
    "    print('=>', path)\n",
    "    print('😊', folders)\n",
    "    print('😒', files)\n",
    "    total_files += len(files)\n",
    "print('total files found:',total_files)"
   ]
  },
  {
   "cell_type": "code",
   "execution_count": 38,
   "metadata": {},
   "outputs": [
    {
     "name": "stdout",
     "output_type": "stream",
     "text": [
      "Folder does not exits\n"
     ]
    }
   ],
   "source": [
    "files = r\"c:\\Users\\sameer\\Desktop\\Python\"\n",
    "if os.path.exists(files):\n",
    "    print('Folder does not exits')\n",
    "else: \n",
    "    print('Folder does not exits')"
   ]
  },
  {
   "cell_type": "code",
   "execution_count": 42,
   "metadata": {},
   "outputs": [
    {
     "name": "stdout",
     "output_type": "stream",
     "text": [
      "Folder exists\n",
      "Folder size: 4096 bytes\n",
      "Folder size in KB: 4.0 KB\n",
      "Folder size in MB: 0.00390625 MB\n",
      "Folder size in GB: 3.814697265625e-06 GB\n"
     ]
    }
   ],
   "source": [
    "files = r\"c:\\Users\\sameer\\Desktop\\Python\"\n",
    "if os.path.exists(files):\n",
    "    print('Folder exists')\n",
    "    size = os.path.getsize(files)\n",
    "    print('Folder size:', size , 'bytes')\n",
    "    print('Folder size in KB:',size / 1024 , 'KB')\n",
    "    print('Folder size in MB:',size / 1024 /1024,'MB')\n",
    "    print('Folder size in GB:',size / 1024 / 1024 / 1024 , 'GB')\n"
   ]
  },
  {
   "cell_type": "code",
   "execution_count": null,
   "metadata": {},
   "outputs": [],
   "source": []
  }
 ],
 "metadata": {
  "kernelspec": {
   "display_name": "Python 3",
   "language": "python",
   "name": "python3"
  },
  "language_info": {
   "codemirror_mode": {
    "name": "ipython",
    "version": 3
   },
   "file_extension": ".py",
   "mimetype": "text/x-python",
   "name": "python",
   "nbconvert_exporter": "python",
   "pygments_lexer": "ipython3",
   "version": "3.12.5"
  }
 },
 "nbformat": 4,
 "nbformat_minor": 2
}
