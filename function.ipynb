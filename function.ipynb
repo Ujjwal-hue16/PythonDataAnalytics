{
 "cells": [
  {
   "cell_type": "markdown",
   "metadata": {},
   "source": [
    "Types of function\n",
    " - User Defined Function\n",
    " - Built in Function\n",
    " "
   ]
  },
  {
   "cell_type": "code",
   "execution_count": 7,
   "metadata": {},
   "outputs": [],
   "source": [
    "# Syntex of Non-prameterized function\n",
    "# Def Funtion_name():\n",
    "#  statements\n",
    "\n",
    "#function call\n",
    "#function_name()"
   ]
  },
  {
   "cell_type": "code",
   "execution_count": 8,
   "metadata": {},
   "outputs": [
    {
     "name": "stdout",
     "output_type": "stream",
     "text": [
      "My first user defined function\n"
     ]
    }
   ],
   "source": [
    "def my_func():\n",
    "    print(\"My first user defined function\")\n",
    "my_func()"
   ]
  },
  {
   "cell_type": "code",
   "execution_count": 9,
   "metadata": {},
   "outputs": [
    {
     "name": "stdout",
     "output_type": "stream",
     "text": [
      "My first user defined function\n",
      "My first user defined function\n",
      "My first user defined function\n",
      "My first user defined function\n"
     ]
    }
   ],
   "source": [
    "my_func()\n",
    "my_func()\n",
    "my_func()\n",
    "my_func()"
   ]
  },
  {
   "cell_type": "code",
   "execution_count": 10,
   "metadata": {},
   "outputs": [],
   "source": [
    "#parameterized function\n",
    "def sum(a,b):\n",
    "    print(a+b)"
   ]
  },
  {
   "cell_type": "code",
   "execution_count": 11,
   "metadata": {},
   "outputs": [
    {
     "name": "stdout",
     "output_type": "stream",
     "text": [
      "54\n"
     ]
    }
   ],
   "source": [
    "sum(10,44)"
   ]
  },
  {
   "cell_type": "code",
   "execution_count": 12,
   "metadata": {},
   "outputs": [
    {
     "name": "stdout",
     "output_type": "stream",
     "text": [
      "444\n"
     ]
    }
   ],
   "source": [
    "sum(123,321)"
   ]
  },
  {
   "cell_type": "code",
   "execution_count": 23,
   "metadata": {},
   "outputs": [
    {
     "name": "stdout",
     "output_type": "stream",
     "text": [
      "6079.04\n"
     ]
    }
   ],
   "source": [
    "def calculate_area(r):\n",
    "    print(3.14*r*r)\n",
    "\n",
    "calculate_area(44)\n",
    "\n",
    "        "
   ]
  },
  {
   "cell_type": "code",
   "execution_count": 29,
   "metadata": {},
   "outputs": [
    {
     "name": "stdout",
     "output_type": "stream",
     "text": [
      "20.0\n"
     ]
    }
   ],
   "source": [
    "def avg(a,b,c):\n",
    "    print((a+b+c)/3)\n",
    "avg(10,20,30)\n"
   ]
  },
  {
   "cell_type": "code",
   "execution_count": 31,
   "metadata": {},
   "outputs": [
    {
     "name": "stdout",
     "output_type": "stream",
     "text": [
      "20.0\n"
     ]
    }
   ],
   "source": [
    "def avg(a,b,c):\n",
    "    return(a+b+c)/3\n",
    "average=avg(10,20,30)\n",
    "print(average)"
   ]
  },
  {
   "cell_type": "code",
   "execution_count": 32,
   "metadata": {},
   "outputs": [
    {
     "data": {
      "text/plain": [
       "55.0"
      ]
     },
     "execution_count": 32,
     "metadata": {},
     "output_type": "execute_result"
    }
   ],
   "source": [
    "avg(44,55,66)"
   ]
  },
  {
   "cell_type": "code",
   "execution_count": 47,
   "metadata": {},
   "outputs": [
    {
     "name": "stdout",
     "output_type": "stream",
     "text": [
      "Ujjwalji\n"
     ]
    }
   ],
   "source": [
    "def name(k):\n",
    "    print( k + \"ji\")\n",
    "\n",
    "\n",
    "    \n",
    "name(\"Ujjwal\")\n"
   ]
  },
  {
   "cell_type": "code",
   "execution_count": 51,
   "metadata": {},
   "outputs": [
    {
     "name": "stdout",
     "output_type": "stream",
     "text": [
      "uuuuu ji\n"
     ]
    }
   ],
   "source": [
    "def name(name):\n",
    "    return(name+\" ji\")\n",
    "k = name(\"uuuuu\")\n",
    "print(k)"
   ]
  },
  {
   "cell_type": "code",
   "execution_count": 58,
   "metadata": {},
   "outputs": [
    {
     "name": "stdout",
     "output_type": "stream",
     "text": [
      "I am from Nepal\n",
      "I am from usa\n",
      "I am from bangaladesh\n",
      "I am from Pakistan\n"
     ]
    }
   ],
   "source": [
    "#default parameter function\n",
    "def my_country(country = \"Pakistan\",):\n",
    "    print(\"I am from \"+ country)\n",
    "my_country(\"Nepal\")\n",
    "my_country(\"usa\")\n",
    "my_country(\"bangaladesh\")\n",
    "my_country()\n"
   ]
  },
  {
   "cell_type": "code",
   "execution_count": 62,
   "metadata": {},
   "outputs": [
    {
     "name": "stdout",
     "output_type": "stream",
     "text": [
      "Apple\n",
      "Banana\n"
     ]
    }
   ],
   "source": [
    "def food_option(food):\n",
    "    for i in food:\n",
    "        print(i)\n",
    "fruits = [\"Apple\", \"Banana\"]\n",
    "food_option(fruits)"
   ]
  },
  {
   "cell_type": "code",
   "execution_count": 72,
   "metadata": {},
   "outputs": [
    {
     "name": "stdout",
     "output_type": "stream",
     "text": [
      "odd\n"
     ]
    }
   ],
   "source": [
    "def even_odd(num):\n",
    "\n",
    "    if num%2 == 0:\n",
    "        print(\"Even\")\n",
    "    else:    \n",
    "       print('odd')\n",
    "num=int(input(\"enter a number:\"))\n",
    "even_odd(num)\n",
    "       "
   ]
  },
  {
   "cell_type": "code",
   "execution_count": null,
   "metadata": {},
   "outputs": [],
   "source": []
  },
  {
   "cell_type": "code",
   "execution_count": null,
   "metadata": {},
   "outputs": [],
   "source": []
  }
 ],
 "metadata": {
  "kernelspec": {
   "display_name": "Python 3",
   "language": "python",
   "name": "python3"
  },
  "language_info": {
   "codemirror_mode": {
    "name": "ipython",
    "version": 3
   },
   "file_extension": ".py",
   "mimetype": "text/x-python",
   "name": "python",
   "nbconvert_exporter": "python",
   "pygments_lexer": "ipython3",
   "version": "3.12.5"
  }
 },
 "nbformat": 4,
 "nbformat_minor": 2
}
