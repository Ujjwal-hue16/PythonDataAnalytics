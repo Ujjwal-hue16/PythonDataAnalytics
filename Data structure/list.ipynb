{
 "cells": [
  {
   "cell_type": "code",
   "execution_count": 1,
   "metadata": {},
   "outputs": [
    {
     "name": "stdout",
     "output_type": "stream",
     "text": [
      "['google', 'instagram', 'youtube', 'snapchat', 'linkdik', 'intershala', 'naukri', 'chrome', 'Zomato']\n"
     ]
    }
   ],
   "source": [
    "apps =['google','instagram' ,'youtube','snapchat','linkdik','intershala','naukri','chrome',\"Zomato\"]\n",
    "print(apps)"
   ]
  },
  {
   "cell_type": "code",
   "execution_count": 2,
   "metadata": {},
   "outputs": [
    {
     "name": "stdout",
     "output_type": "stream",
     "text": [
      "linkdik\n",
      "instagram\n",
      "intershala\n",
      "google\n",
      "naukri\n",
      "google\n",
      "[]\n"
     ]
    }
   ],
   "source": [
    "print(apps[4])\n",
    "print(apps[1])\n",
    "print(apps[5])\n",
    "print(apps[0])\n",
    "print(apps[-3])\n",
    "print(apps[-0])\n",
    "print(apps[3:2])"
   ]
  },
  {
   "cell_type": "code",
   "execution_count": 3,
   "metadata": {},
   "outputs": [
    {
     "name": "stdout",
     "output_type": "stream",
     "text": [
      "['youtube', 'snapchat', 'linkdik', 'intershala']\n"
     ]
    }
   ],
   "source": [
    "print(apps[2:6])"
   ]
  },
  {
   "cell_type": "code",
   "execution_count": 4,
   "metadata": {},
   "outputs": [
    {
     "name": "stdout",
     "output_type": "stream",
     "text": [
      "['instagram', 'youtube', 'snapchat', 'linkdik', 'intershala']\n"
     ]
    }
   ],
   "source": [
    "print(apps[1:6])"
   ]
  },
  {
   "cell_type": "code",
   "execution_count": 5,
   "metadata": {},
   "outputs": [
    {
     "data": {
      "text/plain": [
       "9"
      ]
     },
     "execution_count": 5,
     "metadata": {},
     "output_type": "execute_result"
    }
   ],
   "source": [
    "len(apps)"
   ]
  },
  {
   "cell_type": "code",
   "execution_count": 6,
   "metadata": {},
   "outputs": [
    {
     "name": "stdout",
     "output_type": "stream",
     "text": [
      "['snapchat']\n",
      "['snapchat', 'intershala']\n",
      "['google', 'instagram', 'youtube', 'snapchat', 'linkdik', 'intershala', 'naukri']\n",
      "['linkdik', 'intershala', 'naukri', 'chrome', 'Zomato']\n",
      "['google', 'instagram', 'youtube', 'snapchat', 'linkdik', 'intershala', 'naukri', 'chrome', 'Zomato']\n"
     ]
    }
   ],
   "source": [
    "print(apps[3:4])\n",
    "print(apps[3:6:2])\n",
    "print(apps[:7])\n",
    "print(apps[4:])\n",
    "len(apps)\n",
    "print(apps[:])"
   ]
  },
  {
   "cell_type": "markdown",
   "metadata": {},
   "source": [
    "METHODS\n",
    "\n",
    "append\n",
    "insert\n",
    "pop\n",
    "remove\n",
    "copy\n",
    "extend\n",
    "clear\n",
    "sort\n"
   ]
  },
  {
   "cell_type": "code",
   "execution_count": 7,
   "metadata": {},
   "outputs": [
    {
     "name": "stdout",
     "output_type": "stream",
     "text": [
      "['google', 'instagram', 'youtube', 'snapchat', 'linkdik', 'intershala', 'naukri', 'chrome', 'Zomato']\n"
     ]
    }
   ],
   "source": [
    "print(apps)"
   ]
  },
  {
   "cell_type": "code",
   "execution_count": 8,
   "metadata": {},
   "outputs": [
    {
     "name": "stdout",
     "output_type": "stream",
     "text": [
      "['google', 'instagram', 'youtube', 'snapchat', 'linkdik', 'intershala', 'naukri', 'chrome', 'Zomato']\n"
     ]
    }
   ],
   "source": [
    "apps2=apps.copy()\n",
    "print(apps2)"
   ]
  },
  {
   "cell_type": "code",
   "execution_count": 9,
   "metadata": {},
   "outputs": [
    {
     "name": "stdout",
     "output_type": "stream",
     "text": [
      "['google', 'instagram', 'youtube', 'snapchat', 'linkdik', 'intershala', 'naukri', 'chrome', 'Zomato', 'photos']\n"
     ]
    }
   ],
   "source": [
    "apps.append(\"photos\")\n",
    "print(apps)"
   ]
  },
  {
   "cell_type": "code",
   "execution_count": 10,
   "metadata": {},
   "outputs": [
    {
     "name": "stdout",
     "output_type": "stream",
     "text": [
      "['google', 'instagram', 'youtube', 'ola', 'snapchat', 'linkdik', 'intershala', 'naukri', 'chrome', 'Zomato', 'photos']\n"
     ]
    }
   ],
   "source": [
    "apps.insert(3,'ola')\n",
    "print(apps)"
   ]
  },
  {
   "cell_type": "code",
   "execution_count": 11,
   "metadata": {},
   "outputs": [
    {
     "name": "stdout",
     "output_type": "stream",
     "text": [
      "['google', 'instagram', 'youtube', 'ola', 'snapchat', 'linkdik', 'intershala', 'naukri', 'chrome', 'photos']\n"
     ]
    }
   ],
   "source": [
    "apps.pop(-2)\n",
    "print(apps)"
   ]
  },
  {
   "cell_type": "code",
   "execution_count": 12,
   "metadata": {},
   "outputs": [
    {
     "name": "stdout",
     "output_type": "stream",
     "text": [
      "['google', 'instagram', 'youtube', 'snapchat', 'linkdik', 'intershala', 'naukri', 'chrome', 'photos']\n"
     ]
    }
   ],
   "source": [
    "apps.remove('ola')\n",
    "print(apps)"
   ]
  },
  {
   "cell_type": "code",
   "execution_count": 13,
   "metadata": {},
   "outputs": [
    {
     "name": "stdout",
     "output_type": "stream",
     "text": [
      "['google', 'instagram', 'youtube', 'snapchat', 'linkdik', 'intershala', 'naukri', 'chrome', 'photos', 'l', 'i', 's', 't']\n"
     ]
    }
   ],
   "source": [
    "apps.extend('list')\n",
    "print(apps)"
   ]
  },
  {
   "cell_type": "code",
   "execution_count": 14,
   "metadata": {},
   "outputs": [
    {
     "name": "stdout",
     "output_type": "stream",
     "text": [
      "[]\n"
     ]
    }
   ],
   "source": [
    "apps.clear()\n",
    "print(apps)"
   ]
  },
  {
   "cell_type": "code",
   "execution_count": 15,
   "metadata": {},
   "outputs": [
    {
     "name": "stdout",
     "output_type": "stream",
     "text": [
      "[]\n"
     ]
    }
   ],
   "source": [
    "apps.sort()\n",
    "print(apps)"
   ]
  },
  {
   "cell_type": "code",
   "execution_count": 16,
   "metadata": {},
   "outputs": [
    {
     "name": "stdout",
     "output_type": "stream",
     "text": [
      "[1, 2, 3]\n"
     ]
    }
   ],
   "source": [
    "a=[1,2,3]\n",
    "print(a)"
   ]
  },
  {
   "cell_type": "code",
   "execution_count": 17,
   "metadata": {},
   "outputs": [
    {
     "name": "stdout",
     "output_type": "stream",
     "text": [
      "[1, 2, 3]\n"
     ]
    }
   ],
   "source": [
    "a.extend(apps)\n",
    "print(a)"
   ]
  },
  {
   "cell_type": "code",
   "execution_count": 18,
   "metadata": {},
   "outputs": [
    {
     "name": "stdout",
     "output_type": "stream",
     "text": [
      "[]\n"
     ]
    }
   ],
   "source": [
    "apps2.clear()\n",
    "print(apps2)"
   ]
  },
  {
   "cell_type": "code",
   "execution_count": 19,
   "metadata": {},
   "outputs": [
    {
     "ename": "TypeError",
     "evalue": "can only concatenate str (not \"int\") to str",
     "output_type": "error",
     "traceback": [
      "\u001b[1;31m---------------------------------------------------------------------------\u001b[0m",
      "\u001b[1;31mTypeError\u001b[0m                                 Traceback (most recent call last)",
      "Cell \u001b[1;32mIn[19], line 1\u001b[0m\n\u001b[1;32m----> 1\u001b[0m A \u001b[38;5;241m=\u001b[39m (\u001b[38;5;124;43m\"\u001b[39;49m\u001b[38;5;124;43mHello\u001b[39;49m\u001b[38;5;124;43m\"\u001b[39;49m\u001b[43m \u001b[49m\u001b[38;5;241;43m+\u001b[39;49m\u001b[43m \u001b[49m\u001b[38;5;241;43m2\u001b[39;49m \u001b[38;5;241m+\u001b[39m \u001b[38;5;124m\"\u001b[39m\u001b[38;5;124mworld\u001b[39m\u001b[38;5;124m\"\u001b[39m)\n\u001b[0;32m      2\u001b[0m \u001b[38;5;28mprint\u001b[39m(A)\n",
      "\u001b[1;31mTypeError\u001b[0m: can only concatenate str (not \"int\") to str"
     ]
    }
   ],
   "source": [
    "A = (\"Hello\" + 2 + \"world\")\n",
    "print(A)"
   ]
  },
  {
   "cell_type": "code",
   "execution_count": 20,
   "metadata": {},
   "outputs": [
    {
     "name": "stdout",
     "output_type": "stream",
     "text": [
      "\n"
     ]
    }
   ],
   "source": [
    "str1= \"john,Simon,Aryan\"\n",
    "print(str1[-7:-11])"
   ]
  },
  {
   "cell_type": "code",
   "execution_count": 23,
   "metadata": {},
   "outputs": [
    {
     "name": "stdout",
     "output_type": "stream",
     "text": [
      "[23, 2, 9]\n"
     ]
    }
   ],
   "source": [
    "list1=[6,23,3,2,0,9,8,75]\n",
    "print(list1[1:7:2])"
   ]
  },
  {
   "cell_type": "code",
   "execution_count": null,
   "metadata": {},
   "outputs": [],
   "source": []
  }
 ],
 "metadata": {
  "kernelspec": {
   "display_name": "Python 3",
   "language": "python",
   "name": "python3"
  },
  "language_info": {
   "codemirror_mode": {
    "name": "ipython",
    "version": 3
   },
   "file_extension": ".py",
   "mimetype": "text/x-python",
   "name": "python",
   "nbconvert_exporter": "python",
   "pygments_lexer": "ipython3",
   "version": "3.12.5"
  }
 },
 "nbformat": 4,
 "nbformat_minor": 2
}
