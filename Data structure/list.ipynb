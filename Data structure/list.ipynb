{
 "cells": [
  {
   "cell_type": "code",
   "execution_count": 65,
   "metadata": {},
   "outputs": [
    {
     "name": "stdout",
     "output_type": "stream",
     "text": [
      "['google', 'instagram', 'youtube', 'snapchat', 'linkdik', 'intershala', 'naukri', 'chrome', 'Zomato']\n"
     ]
    }
   ],
   "source": [
    "apps =['google','instagram' ,'youtube','snapchat','linkdik','intershala','naukri','chrome',\"Zomato\"]\n",
    "print(apps)"
   ]
  },
  {
   "cell_type": "code",
   "execution_count": 51,
   "metadata": {},
   "outputs": [
    {
     "name": "stdout",
     "output_type": "stream",
     "text": [
      "linkdik\n",
      "instagram\n",
      "intershala\n",
      "google\n",
      "naukri\n",
      "google\n",
      "[]\n"
     ]
    }
   ],
   "source": [
    "print(apps[4])\n",
    "print(apps[1])\n",
    "print(apps[5])\n",
    "print(apps[0])\n",
    "print(apps[-3])\n",
    "print(apps[-0])\n",
    "print(apps[3:2])"
   ]
  },
  {
   "cell_type": "code",
   "execution_count": 52,
   "metadata": {},
   "outputs": [
    {
     "name": "stdout",
     "output_type": "stream",
     "text": [
      "['youtube', 'snapchat', 'linkdik', 'intershala']\n"
     ]
    }
   ],
   "source": [
    "print(apps[2:6])"
   ]
  },
  {
   "cell_type": "code",
   "execution_count": 53,
   "metadata": {},
   "outputs": [
    {
     "name": "stdout",
     "output_type": "stream",
     "text": [
      "['instagram', 'youtube', 'snapchat', 'linkdik', 'intershala']\n"
     ]
    }
   ],
   "source": [
    "print(apps[1:6])"
   ]
  },
  {
   "cell_type": "code",
   "execution_count": 54,
   "metadata": {},
   "outputs": [
    {
     "data": {
      "text/plain": [
       "9"
      ]
     },
     "execution_count": 54,
     "metadata": {},
     "output_type": "execute_result"
    }
   ],
   "source": [
    "len(apps)"
   ]
  },
  {
   "cell_type": "code",
   "execution_count": 55,
   "metadata": {},
   "outputs": [
    {
     "name": "stdout",
     "output_type": "stream",
     "text": [
      "['snapchat']\n",
      "['snapchat', 'intershala']\n",
      "['google', 'instagram', 'youtube', 'snapchat', 'linkdik', 'intershala', 'naukri']\n",
      "['linkdik', 'intershala', 'naukri', 'chrome', 'zomato']\n",
      "['google', 'instagram', 'youtube', 'snapchat', 'linkdik', 'intershala', 'naukri', 'chrome', 'zomato']\n"
     ]
    }
   ],
   "source": [
    "print(apps[3:4])\n",
    "print(apps[3:6:2])\n",
    "print(apps[:7])\n",
    "print(apps[4:])\n",
    "len(apps)\n",
    "print(apps[:])"
   ]
  },
  {
   "cell_type": "markdown",
   "metadata": {},
   "source": [
    "METHODS\n",
    "\n",
    "append\n",
    "insert\n",
    "pop\n",
    "remove\n",
    "copy\n",
    "extend\n",
    "clear\n",
    "sort\n"
   ]
  },
  {
   "cell_type": "code",
   "execution_count": 56,
   "metadata": {},
   "outputs": [
    {
     "name": "stdout",
     "output_type": "stream",
     "text": [
      "['google', 'instagram', 'youtube', 'snapchat', 'linkdik', 'intershala', 'naukri', 'chrome', 'zomato']\n"
     ]
    }
   ],
   "source": [
    "print(apps)"
   ]
  },
  {
   "cell_type": "code",
   "execution_count": 57,
   "metadata": {},
   "outputs": [
    {
     "name": "stdout",
     "output_type": "stream",
     "text": [
      "['google', 'instagram', 'youtube', 'snapchat', 'linkdik', 'intershala', 'naukri', 'chrome', 'zomato']\n"
     ]
    }
   ],
   "source": [
    "apps2=apps.copy()\n",
    "print(apps2)"
   ]
  },
  {
   "cell_type": "code",
   "execution_count": 58,
   "metadata": {},
   "outputs": [
    {
     "name": "stdout",
     "output_type": "stream",
     "text": [
      "['google', 'instagram', 'youtube', 'snapchat', 'linkdik', 'intershala', 'naukri', 'chrome', 'zomato', 'photos']\n"
     ]
    }
   ],
   "source": [
    "apps.append(\"photos\")\n",
    "print(apps)"
   ]
  },
  {
   "cell_type": "code",
   "execution_count": 59,
   "metadata": {},
   "outputs": [
    {
     "name": "stdout",
     "output_type": "stream",
     "text": [
      "['google', 'instagram', 'youtube', 'ola', 'snapchat', 'linkdik', 'intershala', 'naukri', 'chrome', 'zomato', 'photos']\n"
     ]
    }
   ],
   "source": [
    "apps.insert(3,'ola')\n",
    "print(apps)"
   ]
  },
  {
   "cell_type": "code",
   "execution_count": 60,
   "metadata": {},
   "outputs": [
    {
     "name": "stdout",
     "output_type": "stream",
     "text": [
      "['google', 'instagram', 'youtube', 'ola', 'snapchat', 'linkdik', 'intershala', 'naukri', 'chrome', 'photos']\n"
     ]
    }
   ],
   "source": [
    "apps.pop(-2)\n",
    "print(apps)"
   ]
  },
  {
   "cell_type": "code",
   "execution_count": 62,
   "metadata": {},
   "outputs": [
    {
     "name": "stdout",
     "output_type": "stream",
     "text": [
      "['google', 'instagram', 'youtube', 'snapchat', 'linkdik', 'intershala', 'naukri', 'chrome', 'photos']\n"
     ]
    }
   ],
   "source": [
    "apps.remove('ola')\n",
    "print(apps)"
   ]
  },
  {
   "cell_type": "code",
   "execution_count": 41,
   "metadata": {},
   "outputs": [
    {
     "name": "stdout",
     "output_type": "stream",
     "text": [
      "['google', 'instagram', 'ola', 'snapchat', 'linkdik', 'intershala', 'naukri', 'chrome', 'photos', 'l', 'i', 's', 't', 'l', 'i', 's', 't']\n"
     ]
    }
   ],
   "source": [
    "apps.extend('list')\n",
    "print(apps)"
   ]
  },
  {
   "cell_type": "code",
   "execution_count": 64,
   "metadata": {},
   "outputs": [
    {
     "name": "stdout",
     "output_type": "stream",
     "text": [
      "[]\n"
     ]
    }
   ],
   "source": [
    "apps.clear()\n",
    "print(apps)"
   ]
  },
  {
   "cell_type": "code",
   "execution_count": 66,
   "metadata": {},
   "outputs": [
    {
     "name": "stdout",
     "output_type": "stream",
     "text": [
      "['Zomato', 'chrome', 'google', 'instagram', 'intershala', 'linkdik', 'naukri', 'snapchat', 'youtube']\n"
     ]
    }
   ],
   "source": [
    "apps.sort()\n",
    "print(apps)"
   ]
  },
  {
   "cell_type": "code",
   "execution_count": 68,
   "metadata": {},
   "outputs": [
    {
     "name": "stdout",
     "output_type": "stream",
     "text": [
      "[1, 2, 3]\n"
     ]
    }
   ],
   "source": [
    "a=[1,2,3]\n",
    "print(a)"
   ]
  },
  {
   "cell_type": "code",
   "execution_count": 71,
   "metadata": {},
   "outputs": [
    {
     "name": "stdout",
     "output_type": "stream",
     "text": [
      "[1, 2, 3, 'Zomato', 'chrome', 'google', 'instagram', 'intershala', 'linkdik', 'naukri', 'snapchat', 'youtube', 'Zomato', 'chrome', 'google', 'instagram', 'intershala', 'linkdik', 'naukri', 'snapchat', 'youtube', 'Zomato', 'chrome', 'google', 'instagram', 'intershala', 'linkdik', 'naukri', 'snapchat', 'youtube', 'Zomato', 'chrome', 'google', 'instagram', 'intershala', 'linkdik', 'naukri', 'snapchat', 'youtube']\n"
     ]
    }
   ],
   "source": [
    "a.extend(apps)\n",
    "print(a)"
   ]
  },
  {
   "cell_type": "code",
   "execution_count": 72,
   "metadata": {},
   "outputs": [
    {
     "name": "stdout",
     "output_type": "stream",
     "text": [
      "[]\n"
     ]
    }
   ],
   "source": [
    "apps2.clear()\n",
    "print(apps2)"
   ]
  },
  {
   "cell_type": "code",
   "execution_count": null,
   "metadata": {},
   "outputs": [],
   "source": []
  }
 ],
 "metadata": {
  "kernelspec": {
   "display_name": "Python 3",
   "language": "python",
   "name": "python3"
  },
  "language_info": {
   "codemirror_mode": {
    "name": "ipython",
    "version": 3
   },
   "file_extension": ".py",
   "mimetype": "text/x-python",
   "name": "python",
   "nbconvert_exporter": "python",
   "pygments_lexer": "ipython3",
   "version": "3.12.5"
  }
 },
 "nbformat": 4,
 "nbformat_minor": 2
}
