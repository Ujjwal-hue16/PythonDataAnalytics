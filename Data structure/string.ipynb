{
 "cells": [
  {
   "cell_type": "code",
   "execution_count": 9,
   "metadata": {},
   "outputs": [
    {
     "name": "stdout",
     "output_type": "stream",
     "text": [
      "Hello World\n",
      "11\n"
     ]
    }
   ],
   "source": [
    "txt=\"Hello World\"\n",
    "print(txt)\n",
    "print(len(txt))"
   ]
  },
  {
   "cell_type": "code",
   "execution_count": 11,
   "metadata": {},
   "outputs": [
    {
     "name": "stdout",
     "output_type": "stream",
     "text": [
      "H\n",
      "e\n",
      "l\n",
      "l\n",
      "o\n",
      " \n",
      "W\n",
      "o\n",
      "r\n",
      "l\n",
      "d\n"
     ]
    }
   ],
   "source": [
    "print(txt[0])\n",
    "print(txt[1])\n",
    "print(txt[2])\n",
    "print(txt[3])\n",
    "print(txt[4])\n",
    "print(txt[5])\n",
    "print(txt[6])\n",
    "print(txt[7])\n",
    "print(txt[8])\n",
    "print(txt[9])\n",
    "print(txt[10])\n",
    "\n"
   ]
  },
  {
   "cell_type": "code",
   "execution_count": 13,
   "metadata": {},
   "outputs": [
    {
     "name": "stdout",
     "output_type": "stream",
     "text": [
      "Hello\n",
      " World\n"
     ]
    }
   ],
   "source": [
    "print(txt[0:5])\n",
    "print(txt[5:11])"
   ]
  },
  {
   "cell_type": "code",
   "execution_count": 17,
   "metadata": {},
   "outputs": [
    {
     "name": "stdout",
     "output_type": "stream",
     "text": [
      "ujjwal gupta\n"
     ]
    }
   ],
   "source": [
    "#string concatenation\n",
    "a=input(\"Enter a string\")\n",
    "b=input(\"Enter anither string\")\n",
    "print(a+b)"
   ]
  },
  {
   "cell_type": "code",
   "execution_count": 23,
   "metadata": {},
   "outputs": [
    {
     "name": "stdout",
     "output_type": "stream",
     "text": [
      "Hey Hey Hey Hey \n"
     ]
    }
   ],
   "source": [
    "word=\"Hey \"\n",
    "print(word*4)"
   ]
  },
  {
   "cell_type": "code",
   "execution_count": 21,
   "metadata": {},
   "outputs": [
    {
     "name": "stdout",
     "output_type": "stream",
     "text": [
      "2              5\n"
     ]
    }
   ],
   "source": [
    "a=input(\"Enter a string\")\n",
    "b=input(\"Enter a another string\")\n",
    "print(a+\"              \"+b)"
   ]
  },
  {
   "cell_type": "code",
   "execution_count": 22,
   "metadata": {},
   "outputs": [
    {
     "data": {
      "text/plain": [
       "'BEAUTIFUL'"
      ]
     },
     "execution_count": 22,
     "metadata": {},
     "output_type": "execute_result"
    }
   ],
   "source": [
    "x=\"beautiful\"\n",
    "x.upper()"
   ]
  },
  {
   "cell_type": "code",
   "execution_count": 24,
   "metadata": {},
   "outputs": [
    {
     "data": {
      "text/plain": [
       "'python'"
      ]
     },
     "execution_count": 24,
     "metadata": {},
     "output_type": "execute_result"
    }
   ],
   "source": [
    "y=\"PYTHON\"\n",
    "y.lower()"
   ]
  },
  {
   "cell_type": "code",
   "execution_count": 25,
   "metadata": {},
   "outputs": [
    {
     "data": {
      "text/plain": [
       "'Beautiful'"
      ]
     },
     "execution_count": 25,
     "metadata": {},
     "output_type": "execute_result"
    }
   ],
   "source": [
    "x.capitalize()"
   ]
  },
  {
   "cell_type": "code",
   "execution_count": 27,
   "metadata": {},
   "outputs": [
    {
     "data": {
      "text/plain": [
       "['I', 'am', 'ujjwal']"
      ]
     },
     "execution_count": 27,
     "metadata": {},
     "output_type": "execute_result"
    }
   ],
   "source": [
    "a=\"I am ujjwal\"\n",
    "a.split()"
   ]
  },
  {
   "cell_type": "code",
   "execution_count": 5,
   "metadata": {},
   "outputs": [
    {
     "name": "stdout",
     "output_type": "stream",
     "text": [
      "Johny Johny  yes papa\n",
      "eating sugar no papa\n",
      "telling lie no papa\n",
      "open you mouth hahaha \n"
     ]
    }
   ],
   "source": [
    "poem= '''Johny Johny  yes papa\n",
    "eating sugar no papa\n",
    "telling lie no papa\n",
    "open you mouth hahaha '''\n",
    "print(poem)"
   ]
  },
  {
   "cell_type": "code",
   "execution_count": 6,
   "metadata": {},
   "outputs": [
    {
     "data": {
      "text/plain": [
       "['Johny Johny  yes papa',\n",
       " 'eating sugar no papa',\n",
       " 'telling lie no papa',\n",
       " 'open you mouth hahaha ']"
      ]
     },
     "execution_count": 6,
     "metadata": {},
     "output_type": "execute_result"
    }
   ],
   "source": [
    "poem.splitlines()"
   ]
  },
  {
   "cell_type": "code",
   "execution_count": 7,
   "metadata": {},
   "outputs": [
    {
     "name": "stdout",
     "output_type": "stream",
     "text": [
      "Johny Johny  yes mama\n",
      "eating sugar no mama\n",
      "telling lie no mama\n",
      "open you mouth hahaha \n"
     ]
    }
   ],
   "source": [
    "p = poem.replace('papa', 'mama')\n",
    "print(p)"
   ]
  },
  {
   "cell_type": "code",
   "execution_count": 19,
   "metadata": {},
   "outputs": [
    {
     "name": "stdout",
     "output_type": "stream",
     "text": [
      "Johny Johny  yes fufa\n",
      "eating poison no fufa\n",
      "telling lie no fufa\n",
      "open you mouth jijiji \n"
     ]
    }
   ],
   "source": [
    "p = poem.replace('papa','fufa').replace('sugar','poison').replace('hahaha','jijiji')\n",
    "print(p)"
   ]
  },
  {
   "cell_type": "code",
   "execution_count": 20,
   "metadata": {},
   "outputs": [
    {
     "data": {
      "text/plain": [
       "17"
      ]
     },
     "execution_count": 20,
     "metadata": {},
     "output_type": "execute_result"
    }
   ],
   "source": [
    "p.find('fufa')\n"
   ]
  },
  {
   "cell_type": "code",
   "execution_count": 21,
   "metadata": {},
   "outputs": [
    {
     "data": {
      "text/plain": [
       "0"
      ]
     },
     "execution_count": 21,
     "metadata": {},
     "output_type": "execute_result"
    }
   ],
   "source": [
    "p.find('Johny')"
   ]
  },
  {
   "cell_type": "code",
   "execution_count": 26,
   "metadata": {},
   "outputs": [
    {
     "name": "stdout",
     "output_type": "stream",
     "text": [
      "c:/user/desktop/python\n"
     ]
    }
   ],
   "source": [
    "path=['c:','user','desktop','python']\n",
    "print('/'.join (path))"
   ]
  },
  {
   "cell_type": "code",
   "execution_count": 27,
   "metadata": {},
   "outputs": [
    {
     "name": "stdout",
     "output_type": "stream",
     "text": [
      "john/doe\n"
     ]
    }
   ],
   "source": [
    "name=['john','doe']\n",
    "print('/'.join(name))"
   ]
  },
  {
   "cell_type": "code",
   "execution_count": null,
   "metadata": {},
   "outputs": [],
   "source": []
  }
 ],
 "metadata": {
  "kernelspec": {
   "display_name": "Python 3",
   "language": "python",
   "name": "python3"
  },
  "language_info": {
   "codemirror_mode": {
    "name": "ipython",
    "version": 3
   },
   "file_extension": ".py",
   "mimetype": "text/x-python",
   "name": "python",
   "nbconvert_exporter": "python",
   "pygments_lexer": "ipython3",
   "version": "3.12.5"
  }
 },
 "nbformat": 4,
 "nbformat_minor": 2
}
