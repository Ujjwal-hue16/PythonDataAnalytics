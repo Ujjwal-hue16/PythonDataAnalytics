{
 "cells": [
  {
   "cell_type": "markdown",
   "metadata": {},
   "source": [
    "How to declare dictionary in different ways \n",
    "How to access key and values of dictionary\n",
    "How to use loops in dictionary\n",
    "Nested dictionary \n"
   ]
  },
  {
   "cell_type": "code",
   "execution_count": 64,
   "metadata": {},
   "outputs": [
    {
     "name": "stdout",
     "output_type": "stream",
     "text": [
      "{'name': 'ujjwal', 'class': 'mba', 'roll_no': 2, 'age': 17}\n"
     ]
    }
   ],
   "source": [
    "student = {\n",
    "    \"name\":\"ujjwal\",\n",
    "    \"class\": \"mba\",\n",
    "    \"roll_no\" : 2,\n",
    "    \"age\": 17\n",
    "}\n",
    "print(student)"
   ]
  },
  {
   "cell_type": "code",
   "execution_count": 69,
   "metadata": {},
   "outputs": [
    {
     "name": "stdout",
     "output_type": "stream",
     "text": [
      "{'lucknow': {24, 23, 55}, 'delhi': {88, 32, 99}, 'mumbai': {33, 11, 22}}\n"
     ]
    }
   ],
   "source": [
    "temp ={\n",
    "  'lucknow': {24,23,55},\n",
    "\n",
    "  'delhi': {88,99,32},\n",
    "   'mumbai':{11,22,33}\n",
    "  }\n",
    "print(temp)"
   ]
  },
  {
   "cell_type": "code",
   "execution_count": 66,
   "metadata": {},
   "outputs": [
    {
     "name": "stdout",
     "output_type": "stream",
     "text": [
      "{'name': 'ujjwal', 'age': 22, 'roll_no': 2, 'class_': 'mba'}\n"
     ]
    }
   ],
   "source": [
    "info = dict(name = 'ujjwal',age= 22, roll_no = 2 , class_= 'mba')\n",
    "print(info)"
   ]
  },
  {
   "cell_type": "code",
   "execution_count": 67,
   "metadata": {},
   "outputs": [
    {
     "ename": "ValueError",
     "evalue": "invalid literal for int() with base 10: ''",
     "output_type": "error",
     "traceback": [
      "\u001b[1;31m---------------------------------------------------------------------------\u001b[0m",
      "\u001b[1;31mValueError\u001b[0m                                Traceback (most recent call last)",
      "Cell \u001b[1;32mIn[67], line 2\u001b[0m\n\u001b[0;32m      1\u001b[0m info2 \u001b[38;5;241m=\u001b[39m \u001b[38;5;28mdict\u001b[39m(name \u001b[38;5;241m=\u001b[39m \u001b[38;5;28minput\u001b[39m(\u001b[38;5;124m\"\u001b[39m\u001b[38;5;124menter your name:\u001b[39m\u001b[38;5;124m\"\u001b[39m),\n\u001b[1;32m----> 2\u001b[0m         age\u001b[38;5;241m=\u001b[39m\u001b[38;5;28;43mint\u001b[39;49m\u001b[43m(\u001b[49m\u001b[38;5;28;43minput\u001b[39;49m\u001b[43m(\u001b[49m\u001b[38;5;124;43m\"\u001b[39;49m\u001b[38;5;124;43mEnter you age\u001b[39;49m\u001b[38;5;124;43m\"\u001b[39;49m\u001b[43m)\u001b[49m\u001b[43m)\u001b[49m,\n\u001b[0;32m      3\u001b[0m         roll_no \u001b[38;5;241m=\u001b[39m \u001b[38;5;28mint\u001b[39m(\u001b[38;5;28minput\u001b[39m(\u001b[38;5;124m\"\u001b[39m\u001b[38;5;124mEnter your roll_no\u001b[39m\u001b[38;5;124m\"\u001b[39m)),\n\u001b[0;32m      4\u001b[0m         class_\u001b[38;5;241m=\u001b[39m\u001b[38;5;28minput\u001b[39m(\u001b[38;5;124m\"\u001b[39m\u001b[38;5;124mEnter your class\u001b[39m\u001b[38;5;124m\"\u001b[39m))\n\u001b[0;32m      5\u001b[0m \u001b[38;5;28mprint\u001b[39m(info2)\n",
      "\u001b[1;31mValueError\u001b[0m: invalid literal for int() with base 10: ''"
     ]
    }
   ],
   "source": [
    "info2 = dict(name = input(\"enter your name:\"),\n",
    "        age=int(input(\"Enter you age\")),\n",
    "        roll_no = int(input(\"Enter your roll_no\")),\n",
    "        class_=input(\"Enter your class\"))\n",
    "print(info2)\n",
    "        "
   ]
  },
  {
   "cell_type": "code",
   "execution_count": 17,
   "metadata": {},
   "outputs": [
    {
     "name": "stdout",
     "output_type": "stream",
     "text": [
      "ujjwal\n",
      "{23, 55}\n"
     ]
    }
   ],
   "source": [
    "# 1st method to access the value of a key\n",
    "print(student['name'])\n",
    "print(temp['lucknow'])\n"
   ]
  },
  {
   "cell_type": "code",
   "execution_count": 20,
   "metadata": {},
   "outputs": [
    {
     "name": "stdout",
     "output_type": "stream",
     "text": [
      "ujjwal\n",
      "Mba\n"
     ]
    }
   ],
   "source": [
    "print(student.get('name'))\n",
    "print(info2.get('class_'))"
   ]
  },
  {
   "cell_type": "code",
   "execution_count": 21,
   "metadata": {},
   "outputs": [
    {
     "name": "stdout",
     "output_type": "stream",
     "text": [
      "{'name': 'ujjwal', 'class': 'mba', 'roll_no': 2, 'age': 17, 'city': 'malad west', 'school': 'Amity'}\n"
     ]
    }
   ],
   "source": [
    "# to add item in dictionary\n",
    "student['city']= 'malad west'\n",
    "student['school'] = 'Amity'\n",
    "print(student)"
   ]
  },
  {
   "cell_type": "code",
   "execution_count": 22,
   "metadata": {},
   "outputs": [
    {
     "name": "stdout",
     "output_type": "stream",
     "text": [
      "{'name': 'ujjwal', 'class': 'mba', 'roll_no': 2, 'age': 17, 'school': 'Amity'}\n"
     ]
    }
   ],
   "source": [
    "#to  remove item in dictionary\n",
    "student.pop('city')\n",
    "print(student)"
   ]
  },
  {
   "cell_type": "code",
   "execution_count": 25,
   "metadata": {},
   "outputs": [
    {
     "name": "stdout",
     "output_type": "stream",
     "text": [
      "{'name': 'ujjwal', 'class': 'mba', 'roll_no': 2, 'school': 'Amity'}\n"
     ]
    }
   ],
   "source": [
    "del student['age']\n",
    "print(student)"
   ]
  },
  {
   "cell_type": "code",
   "execution_count": 30,
   "metadata": {},
   "outputs": [
    {
     "name": "stdout",
     "output_type": "stream",
     "text": [
      "name\n",
      "age\n",
      "roll_no\n",
      "class_\n"
     ]
    }
   ],
   "source": [
    "for k in info:\n",
    "    print(k\n",
    "          )"
   ]
  },
  {
   "cell_type": "code",
   "execution_count": 36,
   "metadata": {},
   "outputs": [
    {
     "name": "stdout",
     "output_type": "stream",
     "text": [
      "name:ujjwal\n",
      "age:22\n",
      "roll_no:2\n",
      "class_:mba\n"
     ]
    }
   ],
   "source": [
    "for k , v in info.items():\n",
    "    print(f\"{k}:{v}\")"
   ]
  },
  {
   "cell_type": "code",
   "execution_count": 38,
   "metadata": {},
   "outputs": [
    {
     "name": "stdout",
     "output_type": "stream",
     "text": [
      "dict_values(['ujjwal', 'mba', 2, 'Amity'])\n",
      "dict_keys(['name', 'class', 'roll_no', 'school'])\n",
      "dict_items([('name', 'ujjwal'), ('class', 'mba'), ('roll_no', 2), ('school', 'Amity')])\n"
     ]
    }
   ],
   "source": [
    "print(student.values())\n",
    "print(student.keys())\n",
    "print(student.items())"
   ]
  },
  {
   "cell_type": "code",
   "execution_count": 45,
   "metadata": {},
   "outputs": [
    {
     "name": "stdout",
     "output_type": "stream",
     "text": [
      "{'emp001': {'name': 'ujjwal', 'age': 22, 'dept': 'Hr', 'salary': 22333}, 'emp002': {'name': 'sahil', 'age': 22, 'dept': 'Hr', 'salary': 23234}, 'emp003': {'name': 'Ayush', 'age': 26, 'dept': 'Hr', 'salary': 6666}, 'emp004': {'name': 'Mayank', 'age': 24, 'dept': 'Hr', 'salary': 654544}, 'emp005': {'name': 'Rahul', 'age': 55, 'dept': 'Vco', 'salary': 25000}}\n"
     ]
    }
   ],
   "source": [
    "company = {\n",
    "    'emp001':{'name':'ujjwal','age':22,'dept':'Hr', 'salary': 22333},\n",
    "    'emp002':{'name':'sahil','age':22,'dept':'Hr', 'salary':23234 },\n",
    "    'emp003':{'name':'Ayush','age':26,'dept':'Hr', 'salary':6666 },\n",
    "    'emp004':{'name':'Mayank','age':24,'dept':'Hr', 'salary':654544 },\n",
    "    'emp005':{'name':'Rahul','age':55,'dept':'Vco', 'salary':25000 },\n",
    "\n",
    "\n",
    "}\n",
    "print(company)"
   ]
  },
  {
   "cell_type": "code",
   "execution_count": 41,
   "metadata": {},
   "outputs": [],
   "source": [
    "from pprint import pp"
   ]
  },
  {
   "cell_type": "code",
   "execution_count": 42,
   "metadata": {},
   "outputs": [
    {
     "name": "stdout",
     "output_type": "stream",
     "text": [
      "{'emp001': {'name': 'ujjwal', 'age': 22, 'dept': 'Hr', 'salary': 22333},\n",
      " 'emp002': {'name': 'sahil', 'age': 22, 'dept': 'Hr', 'salary': 23234},\n",
      " 'emp003': {'name': 'Ayush', 'age': 26, 'dept': 'Hr', 'salary': 6666},\n",
      " 'emp004': {'name': 'Mayank', 'age': 24, 'dept': 'Hr', 'salary': 654544}}\n"
     ]
    }
   ],
   "source": [
    "pp(company)"
   ]
  },
  {
   "cell_type": "code",
   "execution_count": 44,
   "metadata": {},
   "outputs": [
    {
     "name": "stdout",
     "output_type": "stream",
     "text": [
      "24\n"
     ]
    }
   ],
   "source": [
    "print(company['emp004']['age'])"
   ]
  },
  {
   "cell_type": "code",
   "execution_count": 52,
   "metadata": {},
   "outputs": [
    {
     "name": "stdout",
     "output_type": "stream",
     "text": [
      "{'emp001': {'name': 'ujjwal', 'age': 22, 'dept': 'Hr', 'salary': 22333}, 'emp002': {'name': 'sahil', 'age': 22, 'dept': 'Hr', 'salary': 23234}, 'emp003': {'name': 'Ayush', 'age': 26, 'dept': 'Hr', 'salary': 6666}, 'emp004': \"'name','Rahul','age',24,'dept','Vco', 'salary',234444 \", 'emp005': \"'name','Rahul','age',24,'dept','Vco', 'salary',234444 \"}\n"
     ]
    }
   ],
   "source": [
    "company['emp005']=\"'name','Rahul','age',24,'dept','Vco', 'salary',234444 \"\n",
    "print(company)"
   ]
  },
  {
   "cell_type": "code",
   "execution_count": 70,
   "metadata": {},
   "outputs": [
    {
     "ename": "TypeError",
     "evalue": "'set' object is not subscriptable",
     "output_type": "error",
     "traceback": [
      "\u001b[1;31m---------------------------------------------------------------------------\u001b[0m",
      "\u001b[1;31mTypeError\u001b[0m                                 Traceback (most recent call last)",
      "Cell \u001b[1;32mIn[70], line 1\u001b[0m\n\u001b[1;32m----> 1\u001b[0m \u001b[38;5;28mprint\u001b[39m(\u001b[43mtemp\u001b[49m\u001b[43m[\u001b[49m\u001b[38;5;124;43m'\u001b[39;49m\u001b[38;5;124;43mlucknow\u001b[39;49m\u001b[38;5;124;43m'\u001b[39;49m\u001b[43m]\u001b[49m\u001b[43m[\u001b[49m\u001b[38;5;241;43m0\u001b[39;49m\u001b[43m]\u001b[49m)\n\u001b[0;32m      2\u001b[0m \u001b[38;5;28mprint\u001b[39m(temp[\u001b[38;5;124m'\u001b[39m\u001b[38;5;124mdelhi\u001b[39m\u001b[38;5;124m'\u001b[39m][\u001b[38;5;241m1\u001b[39m])\n",
      "\u001b[1;31mTypeError\u001b[0m: 'set' object is not subscriptable"
     ]
    }
   ],
   "source": [
    "print(temp['lucknow'][0])\n",
    "print(temp['delhi'][1])"
   ]
  },
  {
   "cell_type": "code",
   "execution_count": 74,
   "metadata": {},
   "outputs": [
    {
     "name": "stdout",
     "output_type": "stream",
     "text": [
      "Average temprature of lucknow is 73.0\n"
     ]
    }
   ],
   "source": [
    "print(\"Average temprature of lucknow is\",sum(temp['delhi'])/len(temp['delhi']))"
   ]
  },
  {
   "cell_type": "code",
   "execution_count": null,
   "metadata": {},
   "outputs": [],
   "source": []
  }
 ],
 "metadata": {
  "kernelspec": {
   "display_name": "Python 3",
   "language": "python",
   "name": "python3"
  },
  "language_info": {
   "codemirror_mode": {
    "name": "ipython",
    "version": 3
   },
   "file_extension": ".py",
   "mimetype": "text/x-python",
   "name": "python",
   "nbconvert_exporter": "python",
   "pygments_lexer": "ipython3",
   "version": "3.12.5"
  }
 },
 "nbformat": 4,
 "nbformat_minor": 2
}
