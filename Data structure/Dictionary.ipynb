{
 "cells": [
  {
   "cell_type": "markdown",
   "metadata": {},
   "source": [
    "How to declare dictionary in different ways \n",
    "How to access key and values of dictionary\n",
    "How to use loops in dictionary\n",
    "Nested dictionary \n"
   ]
  },
  {
   "cell_type": "code",
   "execution_count": 21,
   "metadata": {},
   "outputs": [
    {
     "name": "stdout",
     "output_type": "stream",
     "text": [
      "{'name': 'ujjwal', 'class': 'mba', 'roll_no': 2, 'age': 17}\n"
     ]
    }
   ],
   "source": [
    "student = {\n",
    "    \"name\":\"ujjwal\",\n",
    "    \"class\": \"mba\",\n",
    "    \"roll_no\" : 2,\n",
    "    \"age\": 17\n",
    "}\n",
    "print(student)"
   ]
  },
  {
   "cell_type": "code",
   "execution_count": 22,
   "metadata": {},
   "outputs": [
    {
     "name": "stdout",
     "output_type": "stream",
     "text": [
      "{'lucknow': {24, 23, 55}, 'delhi': {88, 32, 99}, 'mumbai': {33, 11, 22}}\n"
     ]
    }
   ],
   "source": [
    "temp ={\n",
    "  'lucknow': {24,23,55},\n",
    "\n",
    "  'delhi': {88,99,32},\n",
    "   'mumbai':{11,22,33}\n",
    "  }\n",
    "print(temp)"
   ]
  },
  {
   "cell_type": "code",
   "execution_count": 23,
   "metadata": {},
   "outputs": [
    {
     "name": "stdout",
     "output_type": "stream",
     "text": [
      "{'name': 'ujjwal', 'age': 22, 'roll_no': 2, 'class_': 'mba'}\n"
     ]
    }
   ],
   "source": [
    "info = dict(name = 'ujjwal',age= 22, roll_no = 2 , class_= 'mba')\n",
    "print(info)"
   ]
  },
  {
   "cell_type": "code",
   "execution_count": 24,
   "metadata": {},
   "outputs": [
    {
     "name": "stdout",
     "output_type": "stream",
     "text": [
      "{'name': '111', 'age': 111, 'roll_no': 111, 'class_': '111'}\n"
     ]
    }
   ],
   "source": [
    "info2 = dict(name = input(\"enter your name:\"),\n",
    "        age=int(input(\"Enter you age\")),\n",
    "        roll_no = int(input(\"Enter your roll_no\")),\n",
    "        class_=input(\"Enter your class\"))\n",
    "print(info2)\n",
    "        "
   ]
  },
  {
   "cell_type": "code",
   "execution_count": 25,
   "metadata": {},
   "outputs": [
    {
     "name": "stdout",
     "output_type": "stream",
     "text": [
      "ujjwal\n",
      "{24, 23, 55}\n"
     ]
    }
   ],
   "source": [
    "# 1st method to access the value of a key\n",
    "print(student['name'])\n",
    "print(temp['lucknow'])\n"
   ]
  },
  {
   "cell_type": "code",
   "execution_count": 26,
   "metadata": {},
   "outputs": [
    {
     "name": "stdout",
     "output_type": "stream",
     "text": [
      "ujjwal\n",
      "111\n"
     ]
    }
   ],
   "source": [
    "print(student.get('name'))\n",
    "print(info2.get('class_'))"
   ]
  },
  {
   "cell_type": "code",
   "execution_count": 27,
   "metadata": {},
   "outputs": [
    {
     "name": "stdout",
     "output_type": "stream",
     "text": [
      "{'name': 'ujjwal', 'class': 'mba', 'roll_no': 2, 'age': 17, 'city': 'malad west', 'school': 'Amity'}\n"
     ]
    }
   ],
   "source": [
    "# to add item in dictionary\n",
    "student['city']= 'malad west'\n",
    "student['school'] = 'Amity'\n",
    "print(student)"
   ]
  },
  {
   "cell_type": "code",
   "execution_count": 28,
   "metadata": {},
   "outputs": [
    {
     "name": "stdout",
     "output_type": "stream",
     "text": [
      "{'name': 'ujjwal', 'class': 'mba', 'roll_no': 2, 'age': 17, 'school': 'Amity'}\n"
     ]
    }
   ],
   "source": [
    "#to  remove item in dictionary\n",
    "student.pop('city')\n",
    "print(student)"
   ]
  },
  {
   "cell_type": "code",
   "execution_count": 29,
   "metadata": {},
   "outputs": [
    {
     "name": "stdout",
     "output_type": "stream",
     "text": [
      "{'name': 'ujjwal', 'class': 'mba', 'roll_no': 2, 'school': 'Amity'}\n"
     ]
    }
   ],
   "source": [
    "del student['age']\n",
    "print(student)"
   ]
  },
  {
   "cell_type": "code",
   "execution_count": 30,
   "metadata": {},
   "outputs": [
    {
     "name": "stdout",
     "output_type": "stream",
     "text": [
      "name\n",
      "age\n",
      "roll_no\n",
      "class_\n"
     ]
    }
   ],
   "source": [
    "for k in info:\n",
    "    print(k\n",
    "          )"
   ]
  },
  {
   "cell_type": "code",
   "execution_count": 31,
   "metadata": {},
   "outputs": [
    {
     "name": "stdout",
     "output_type": "stream",
     "text": [
      "name:ujjwal\n",
      "age:22\n",
      "roll_no:2\n",
      "class_:mba\n"
     ]
    }
   ],
   "source": [
    "for k , v in info.items():\n",
    "    print(f\"{k}:{v}\")"
   ]
  },
  {
   "cell_type": "code",
   "execution_count": 32,
   "metadata": {},
   "outputs": [
    {
     "name": "stdout",
     "output_type": "stream",
     "text": [
      "dict_values(['ujjwal', 'mba', 2, 'Amity'])\n",
      "dict_keys(['name', 'class', 'roll_no', 'school'])\n",
      "dict_items([('name', 'ujjwal'), ('class', 'mba'), ('roll_no', 2), ('school', 'Amity')])\n"
     ]
    }
   ],
   "source": [
    "print(student.values())\n",
    "print(student.keys())\n",
    "print(student.items())"
   ]
  },
  {
   "cell_type": "code",
   "execution_count": 33,
   "metadata": {},
   "outputs": [
    {
     "name": "stdout",
     "output_type": "stream",
     "text": [
      "{'emp001': {'name': 'ujjwal', 'age': 22, 'dept': 'Hr', 'salary': 22333}, 'emp002': {'name': 'sahil', 'age': 22, 'dept': 'Hr', 'salary': 23234}, 'emp003': {'name': 'Ayush', 'age': 26, 'dept': 'Hr', 'salary': 6666}, 'emp004': {'name': 'Mayank', 'age': 24, 'dept': 'Hr', 'salary': 654544}, 'emp005': {'name': 'Rahul', 'age': 55, 'dept': 'Vco', 'salary': 25000}}\n"
     ]
    }
   ],
   "source": [
    "company = {\n",
    "    'emp001':{'name':'ujjwal','age':22,'dept':'Hr', 'salary': 22333},\n",
    "    'emp002':{'name':'sahil','age':22,'dept':'Hr', 'salary':23234 },\n",
    "    'emp003':{'name':'Ayush','age':26,'dept':'Hr', 'salary':6666 },\n",
    "    'emp004':{'name':'Mayank','age':24,'dept':'Hr', 'salary':654544 },\n",
    "    'emp005':{'name':'Rahul','age':55,'dept':'Vco', 'salary':25000 },\n",
    "\n",
    "\n",
    "}\n",
    "print(company)"
   ]
  },
  {
   "cell_type": "code",
   "execution_count": 34,
   "metadata": {},
   "outputs": [],
   "source": [
    "from pprint import pp"
   ]
  },
  {
   "cell_type": "code",
   "execution_count": 35,
   "metadata": {},
   "outputs": [
    {
     "name": "stdout",
     "output_type": "stream",
     "text": [
      "{'emp001': {'name': 'ujjwal', 'age': 22, 'dept': 'Hr', 'salary': 22333},\n",
      " 'emp002': {'name': 'sahil', 'age': 22, 'dept': 'Hr', 'salary': 23234},\n",
      " 'emp003': {'name': 'Ayush', 'age': 26, 'dept': 'Hr', 'salary': 6666},\n",
      " 'emp004': {'name': 'Mayank', 'age': 24, 'dept': 'Hr', 'salary': 654544},\n",
      " 'emp005': {'name': 'Rahul', 'age': 55, 'dept': 'Vco', 'salary': 25000}}\n"
     ]
    }
   ],
   "source": [
    "pp(company)"
   ]
  },
  {
   "cell_type": "code",
   "execution_count": 36,
   "metadata": {},
   "outputs": [
    {
     "name": "stdout",
     "output_type": "stream",
     "text": [
      "24\n"
     ]
    }
   ],
   "source": [
    "print(company['emp004']['age'])"
   ]
  },
  {
   "cell_type": "code",
   "execution_count": 37,
   "metadata": {},
   "outputs": [
    {
     "name": "stdout",
     "output_type": "stream",
     "text": [
      "{'emp001': {'name': 'ujjwal', 'age': 22, 'dept': 'Hr', 'salary': 22333}, 'emp002': {'name': 'sahil', 'age': 22, 'dept': 'Hr', 'salary': 23234}, 'emp003': {'name': 'Ayush', 'age': 26, 'dept': 'Hr', 'salary': 6666}, 'emp004': {'name': 'Mayank', 'age': 24, 'dept': 'Hr', 'salary': 654544}, 'emp005': \"'name','Rahul','age',24,'dept','Vco', 'salary',234444 \"}\n"
     ]
    }
   ],
   "source": [
    "company['emp005']=\"'name','Rahul','age',24,'dept','Vco', 'salary',234444 \"\n",
    "print(company)"
   ]
  },
  {
   "cell_type": "code",
   "execution_count": 38,
   "metadata": {},
   "outputs": [
    {
     "ename": "TypeError",
     "evalue": "'set' object is not subscriptable",
     "output_type": "error",
     "traceback": [
      "\u001b[1;31m---------------------------------------------------------------------------\u001b[0m",
      "\u001b[1;31mTypeError\u001b[0m                                 Traceback (most recent call last)",
      "Cell \u001b[1;32mIn[38], line 1\u001b[0m\n\u001b[1;32m----> 1\u001b[0m \u001b[38;5;28mprint\u001b[39m(\u001b[43mtemp\u001b[49m\u001b[43m[\u001b[49m\u001b[38;5;124;43m'\u001b[39;49m\u001b[38;5;124;43mlucknow\u001b[39;49m\u001b[38;5;124;43m'\u001b[39;49m\u001b[43m]\u001b[49m\u001b[43m[\u001b[49m\u001b[38;5;241;43m0\u001b[39;49m\u001b[43m]\u001b[49m)\n\u001b[0;32m      2\u001b[0m \u001b[38;5;28mprint\u001b[39m(temp[\u001b[38;5;124m'\u001b[39m\u001b[38;5;124mdelhi\u001b[39m\u001b[38;5;124m'\u001b[39m][\u001b[38;5;241m1\u001b[39m])\n",
      "\u001b[1;31mTypeError\u001b[0m: 'set' object is not subscriptable"
     ]
    }
   ],
   "source": [
    "print(temp['lucknow'][0])\n",
    "print(temp['delhi'][1])"
   ]
  },
  {
   "cell_type": "code",
   "execution_count": 2,
   "metadata": {},
   "outputs": [
    {
     "ename": "NameError",
     "evalue": "name 'temp' is not defined",
     "output_type": "error",
     "traceback": [
      "\u001b[1;31m---------------------------------------------------------------------------\u001b[0m",
      "\u001b[1;31mNameError\u001b[0m                                 Traceback (most recent call last)",
      "Cell \u001b[1;32mIn[2], line 1\u001b[0m\n\u001b[1;32m----> 1\u001b[0m \u001b[38;5;28mprint\u001b[39m(\u001b[38;5;124m\"\u001b[39m\u001b[38;5;124mAverage temprature of lucknow is\u001b[39m\u001b[38;5;124m\"\u001b[39m,\u001b[38;5;28msum\u001b[39m(\u001b[43mtemp\u001b[49m[\u001b[38;5;124m'\u001b[39m\u001b[38;5;124mdelhi\u001b[39m\u001b[38;5;124m'\u001b[39m])\u001b[38;5;241m/\u001b[39m\u001b[38;5;28mlen\u001b[39m(temp[\u001b[38;5;124m'\u001b[39m\u001b[38;5;124mdelhi\u001b[39m\u001b[38;5;124m'\u001b[39m]))\n",
      "\u001b[1;31mNameError\u001b[0m: name 'temp' is not defined"
     ]
    }
   ],
   "source": [
    "print(\"Average temprature of lucknow is\",sum(temp['delhi'])/len(temp['delhi']))\n",
    "\n"
   ]
  },
  {
   "cell_type": "code",
   "execution_count": null,
   "metadata": {},
   "outputs": [],
   "source": []
  }
 ],
 "metadata": {
  "kernelspec": {
   "display_name": "Python 3",
   "language": "python",
   "name": "python3"
  },
  "language_info": {
   "codemirror_mode": {
    "name": "ipython",
    "version": 3
   },
   "file_extension": ".py",
   "mimetype": "text/x-python",
   "name": "python",
   "nbconvert_exporter": "python",
   "pygments_lexer": "ipython3",
   "version": "3.12.5"
  }
 },
 "nbformat": 4,
 "nbformat_minor": 2
}
